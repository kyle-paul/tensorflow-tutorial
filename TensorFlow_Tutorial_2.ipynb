{
  "cells": [
    {
      "attachments": {},
      "cell_type": "markdown",
      "metadata": {},
      "source": [
        "# TensorFlow Tutorial 3"
      ]
    },
    {
      "cell_type": "code",
      "execution_count": 94,
      "metadata": {
        "colab": {
          "base_uri": "https://localhost:8080/",
          "height": 35
        },
        "id": "U7imd0V8EivZ",
        "outputId": "01b0f3f5-f8b3-4e6d-ef7a-db32807e79c6"
      },
      "outputs": [
        {
          "data": {
            "application/vnd.google.colaboratory.intrinsic+json": {
              "type": "string"
            },
            "text/plain": [
              "'2.12.0'"
            ]
          },
          "execution_count": 94,
          "metadata": {},
          "output_type": "execute_result"
        }
      ],
      "source": [
        "import tensorflow as tf\n",
        "tf.__version__"
      ]
    },
    {
      "cell_type": "code",
      "execution_count": 96,
      "metadata": {
        "id": "fix7ahV2EnwF"
      },
      "outputs": [],
      "source": [
        "# import modules\n",
        "from tensorflow.keras.layers import Dense, Flatten, Conv2D\n",
        "from tensorflow.keras import Model"
      ]
    },
    {
      "cell_type": "code",
      "execution_count": 124,
      "metadata": {
        "colab": {
          "base_uri": "https://localhost:8080/"
        },
        "id": "jgZI-EMCFRIz",
        "outputId": "4dfe3d58-0d34-4b44-fc20-69673fbb953b"
      },
      "outputs": [
        {
          "data": {
            "text/plain": [
              "((60000, 28, 28), (60000,), (10000, 28, 28), (10000,))"
            ]
          },
          "execution_count": 124,
          "metadata": {},
          "output_type": "execute_result"
        }
      ],
      "source": [
        "# Load Mnist dataset\n",
        "mnist = tf.keras.datasets.mnist\n",
        "(x_train, y_train), (x_test, y_test) = mnist.load_data()\n",
        "x_train.shape, y_train.shape, x_test.shape, y_test.shape"
      ]
    },
    {
      "cell_type": "code",
      "execution_count": 125,
      "metadata": {
        "id": "d70ZlUgCFSVj"
      },
      "outputs": [],
      "source": [
        "# normalize the dataset\n",
        "x_train, x_test = x_train / 255.0, x_test / 255.0"
      ]
    },
    {
      "cell_type": "code",
      "execution_count": 108,
      "metadata": {
        "colab": {
          "base_uri": "https://localhost:8080/"
        },
        "id": "XO83z1NQFc12",
        "outputId": "81b0cf9b-fa07-46ee-e444-d3382cbc5ba1"
      },
      "outputs": [
        {
          "data": {
            "text/plain": [
              "array([0.99215686, 0.99215686, 0.99215686, 0.77647059, 0.31764706,\n",
              "       0.00784314, 0.        , 0.        , 0.        , 0.        ,\n",
              "       0.        , 0.        , 0.        , 0.        , 0.        ,\n",
              "       0.        , 0.        , 0.        , 0.        , 0.        ,\n",
              "       0.        , 0.        , 0.07058824, 0.67058824, 0.85882353,\n",
              "       0.99215686, 0.99215686, 0.99215686, 0.99215686, 0.76470588,\n",
              "       0.31372549, 0.03529412, 0.        , 0.        , 0.        ,\n",
              "       0.        , 0.        , 0.        , 0.        , 0.        ,\n",
              "       0.        , 0.        , 0.        , 0.        , 0.        ,\n",
              "       0.        , 0.        , 0.        , 0.21568627, 0.6745098 ])"
            ]
          },
          "execution_count": 108,
          "metadata": {},
          "output_type": "execute_result"
        }
      ],
      "source": [
        "x_train[0].reshape(28*28)[600:650] # in the range 0 -> 1"
      ]
    },
    {
      "cell_type": "code",
      "execution_count": 121,
      "metadata": {
        "colab": {
          "base_uri": "https://localhost:8080/"
        },
        "id": "73RWvxh8HHnI",
        "outputId": "aee0284c-8079-497e-d32f-50a505f8908f"
      },
      "outputs": [
        {
          "data": {
            "text/plain": [
              "(dtype('float64'), dtype('float64'))"
            ]
          },
          "execution_count": 121,
          "metadata": {},
          "output_type": "execute_result"
        }
      ],
      "source": [
        "x_train.dtype, x_test.dtype"
      ]
    },
    {
      "cell_type": "code",
      "execution_count": 126,
      "metadata": {
        "colab": {
          "base_uri": "https://localhost:8080/"
        },
        "id": "AP24DpBlF38a",
        "outputId": "6c09dfb4-3a43-4eca-a9cb-546610d245be"
      },
      "outputs": [
        {
          "name": "stdout",
          "output_type": "stream",
          "text": [
            "float32 float32\n",
            "(60000, 28, 28, 1) (10000, 28, 28, 1)\n"
          ]
        }
      ],
      "source": [
        "# Add channels dimension (grayscale -> 1 channel != rgb 3 channels)\n",
        "x_train = x_train[..., tf.newaxis].astype(\"float32\")\n",
        "x_test = x_test[..., tf.newaxis].astype(\"float32\")\n",
        "print(x_train.dtype, x_test.dtype)\n",
        "print(x_train.shape, x_test.shape)"
      ]
    },
    {
      "cell_type": "code",
      "execution_count": 127,
      "metadata": {
        "id": "J_RaJijvGpj6"
      },
      "outputs": [],
      "source": [
        "# batch and shuffle the data\n",
        "train_ds = tf.data.Dataset.from_tensor_slices((x_train, y_train)).shuffle(1000).batch(32)\n",
        "test_ds = tf.data.Dataset.from_tensor_slices((x_test, y_test)).batch(32)"
      ]
    },
    {
      "attachments": {},
      "cell_type": "markdown",
      "metadata": {
        "id": "QhQ1XkzNJS54"
      },
      "source": [
        "`tf.data.Dataset` in TensorFlow"
      ]
    },
    {
      "cell_type": "code",
      "execution_count": 140,
      "metadata": {
        "colab": {
          "base_uri": "https://localhost:8080/"
        },
        "id": "zzpA2_w8IE6W",
        "outputId": "c58c30f1-2ab0-4ec8-9ad5-1a75eb5b7eef"
      },
      "outputs": [
        {
          "data": {
            "text/plain": [
              "[0.7921569, 0.6156863, 0.47843137]"
            ]
          },
          "execution_count": 140,
          "metadata": {},
          "output_type": "execute_result"
        }
      ],
      "source": [
        "dataset = tf.data.Dataset.from_tensor_slices([202.0,157.0,122.0])\n",
        "dataset = dataset.map(lambda x : x / 255.0)\n",
        "list(dataset.as_numpy_iterator())"
      ]
    },
    {
      "cell_type": "code",
      "execution_count": 144,
      "metadata": {
        "colab": {
          "base_uri": "https://localhost:8080/"
        },
        "id": "oVLT_vg8Jafk",
        "outputId": "4d2874a3-28f8-42e6-8973-230f00fac173"
      },
      "outputs": [
        {
          "data": {
            "text/plain": [
              "[0, 1, 2, 3, 4, 5, 6, 7, 8, 9]"
            ]
          },
          "execution_count": 144,
          "metadata": {},
          "output_type": "execute_result"
        }
      ],
      "source": [
        "dataset = tf.data.Dataset.range(100)\n",
        "def dataset_fn(ds):\n",
        "  return ds.filter(lambda x : x < 10) # even numbers\n",
        "dataset = dataset.apply(dataset_fn)\n",
        "list(dataset.as_numpy_iterator())"
      ]
    },
    {
      "attachments": {},
      "cell_type": "markdown",
      "metadata": {
        "id": "5zVH7ykoKFWZ"
      },
      "source": [
        "`tf.data.Dataset.batch`\n",
        "\n",
        "```\n",
        "batch (\n",
        "  batch_size,\n",
        "  drop_remainder=False,\n",
        "  num_parallel_calls=None,\n",
        "  deterministic=None,\n",
        "  name=None\n",
        ")\n",
        "```"
      ]
    },
    {
      "cell_type": "code",
      "execution_count": 152,
      "metadata": {
        "colab": {
          "base_uri": "https://localhost:8080/"
        },
        "id": "oQFvL5uFKKQO",
        "outputId": "a7493f9c-4c61-4850-e281-c7c0768e3ef8"
      },
      "outputs": [
        {
          "data": {
            "text/plain": [
              "[array([0, 1, 2]), array([3, 4, 5]), array([6, 7, 8])]"
            ]
          },
          "execution_count": 152,
          "metadata": {},
          "output_type": "execute_result"
        }
      ],
      "source": [
        "dataset = tf.data.Dataset.range(10).batch(3, drop_remainder=True)\n",
        "list(dataset.as_numpy_iterator())"
      ]
    },
    {
      "cell_type": "code",
      "execution_count": 153,
      "metadata": {
        "id": "SXIrLZKPLSNp"
      },
      "outputs": [],
      "source": [
        "# Build tf.keras model using the Keras model subclassing API\n",
        "class MyModel(Model):\n",
        "  def __init__(self):\n",
        "    super(MyModel, self).__init__()\n",
        "    self.conv1 = Conv2D(32, 3, activation=\"relu\")\n",
        "    self.flatten = Flatten()\n",
        "    self.d1 = Dense(128, activation=\"relu\")\n",
        "    self.d2 = Dense(10) # output 10 classes\n",
        "\n",
        "  def call(self, x):\n",
        "    x = self.conv1(x)\n",
        "    x = self.flatten(x)\n",
        "    x = self.d1(x)\n",
        "    return self.d2(x)\n",
        "\n",
        "# Create an instance of model\n",
        "model = MyModel()"
      ]
    },
    {
      "cell_type": "code",
      "execution_count": 154,
      "metadata": {
        "id": "nHuT7iy3MMwS"
      },
      "outputs": [],
      "source": [
        "# Choose optimizer and loss function for training\n",
        "loss_fn = tf.keras.losses.SparseCategoricalCrossentropy(from_logits=True)\n",
        "optimizer = tf.keras.optimizers.Adam()\n",
        "\n",
        "# Choose metrics to measure the loss and accuracy of the model\n",
        "train_loss = tf.keras.metrics.Mean(name=\"train_loss\")\n",
        "train_accuracy = tf.keras.metrics.SparseCategoricalAccuracy(name=\"train_accuracy\")\n",
        "test_loss = tf.keras.metrics.Mean(name=\"test_loss\")\n",
        "test_accuracy = tf.keras.metrics.SparseCategoricalAccuracy(name=\"test_loss\")"
      ]
    },
    {
      "cell_type": "code",
      "execution_count": 155,
      "metadata": {
        "id": "ulTTeayAM8-A"
      },
      "outputs": [],
      "source": [
        "# use tf.GradientTape to trauin the model\n",
        "@tf.function\n",
        "def train_step(images, labels):\n",
        "  with tf.GradientTape() as tape:\n",
        "    predictions = model(images, training=True)\n",
        "    loss = loss_fn(labels, predictions)  # loss_function(true label, predicted labels) -> metrics loss\n",
        "  gradients = tape.gradient(loss, model.trainable_variables)\n",
        "  optimizer.apply_gradients(zip(gradients, model.trainable_variables))\n",
        "  train_loss(loss)\n",
        "  train_accuracy(labels, predictions)"
      ]
    },
    {
      "cell_type": "code",
      "execution_count": 156,
      "metadata": {
        "id": "V1ZpEyuzN6Cp"
      },
      "outputs": [],
      "source": [
        "# test the model\n",
        "def test_step(images, labels):\n",
        "  predictions = model(images, training=False)\n",
        "  t_loss = loss_fn(labels, predictions)\n",
        "\n",
        "  test_loss(t_loss)\n",
        "  test_accuracy(labels, predictions)"
      ]
    },
    {
      "cell_type": "code",
      "execution_count": 158,
      "metadata": {
        "colab": {
          "base_uri": "https://localhost:8080/"
        },
        "id": "MEhkirGEOTIg",
        "outputId": "2bd86d36-aa9f-4aaa-8c3f-3865f8f54b9c"
      },
      "outputs": [
        {
          "name": "stdout",
          "output_type": "stream",
          "text": [
            "Epoch 1, Loss 0.1337510198354721, Accuracy 95.94332885742188, Test Loss 0.05705123022198677, Test Accuracy 98.04000091552734\n",
            "Epoch 2, Loss 0.04257063940167427, Accuracy 98.73333740234375, Test Loss 0.05799725651741028, Test Accuracy 98.0\n",
            "Epoch 3, Loss 0.022624971345067024, Accuracy 99.2699966430664, Test Loss 0.06107187643647194, Test Accuracy 98.0999984741211\n",
            "Epoch 4, Loss 0.012652875855565071, Accuracy 99.58999633789062, Test Loss 0.07004642486572266, Test Accuracy 98.04999542236328\n",
            "Epoch 5, Loss 0.009029841981828213, Accuracy 99.69833374023438, Test Loss 0.08066807687282562, Test Accuracy 98.1199951171875\n"
          ]
        }
      ],
      "source": [
        "# Start trainin with epochs = 5\n",
        "EPOCHS = 5\n",
        "for epoch in range(EPOCHS):\n",
        "  # reset the meitrcs at the start of the next epoch\n",
        "  train_loss.reset_states()\n",
        "  train_accuracy.reset_states()\n",
        "  test_loss.reset_states()\n",
        "  test_accuracy.reset_states()\n",
        "\n",
        "  for images, labels in train_ds:\n",
        "    train_step(images, labels)\n",
        "\n",
        "  for test_images, test_labels in test_ds:\n",
        "    test_step(test_images, test_labels)\n",
        "\n",
        "  print(\n",
        "      f'Epoch {epoch + 1}, ' # epoch starts from 0\n",
        "      f'Loss {train_loss.result()}, '\n",
        "      f'Accuracy {train_accuracy.result() * 100}, ' # *100 -> percentage format\n",
        "      f'Test Loss {test_loss.result()}, '\n",
        "      f'Test Accuracy {test_accuracy.result() * 100}'\n",
        "  )"
      ]
    },
    {
      "attachments": {},
      "cell_type": "markdown",
      "metadata": {
        "id": "8BCaB0UBRt3C"
      },
      "source": [
        "we do not save the result but reset, so we cannot visualize or plot any diagram"
      ]
    }
  ],
  "metadata": {
    "colab": {
      "provenance": []
    },
    "kernelspec": {
      "display_name": "Python 3",
      "name": "python3"
    },
    "language_info": {
      "name": "python"
    }
  },
  "nbformat": 4,
  "nbformat_minor": 0
}
